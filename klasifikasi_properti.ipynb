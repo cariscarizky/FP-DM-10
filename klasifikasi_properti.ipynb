{
 "cells": [
  {
   "cell_type": "markdown",
   "metadata": {},
   "source": [
    "# Pemrosesan"
   ]
  },
  {
   "cell_type": "code",
   "execution_count": 1,
   "metadata": {},
   "outputs": [
    {
     "data": {
      "text/html": [
       "<div>\n",
       "<style scoped>\n",
       "    .dataframe tbody tr th:only-of-type {\n",
       "        vertical-align: middle;\n",
       "    }\n",
       "\n",
       "    .dataframe tbody tr th {\n",
       "        vertical-align: top;\n",
       "    }\n",
       "\n",
       "    .dataframe thead th {\n",
       "        text-align: right;\n",
       "    }\n",
       "</style>\n",
       "<table border=\"1\" class=\"dataframe\">\n",
       "  <thead>\n",
       "    <tr style=\"text-align: right;\">\n",
       "      <th></th>\n",
       "      <th>Properti_Name</th>\n",
       "      <th>Price</th>\n",
       "      <th>Lokasi</th>\n",
       "      <th>Detail</th>\n",
       "    </tr>\n",
       "  </thead>\n",
       "  <tbody>\n",
       "    <tr>\n",
       "      <th>0</th>\n",
       "      <td>Dijual Rumah Siap Huni, Lingkungan Komplek di ...</td>\n",
       "      <td>Rp 6.000.000.000</td>\n",
       "      <td>Kebayoran Baru, Jakarta Selatan</td>\n",
       "      <td>3 KT - 3 KM - 260 m2</td>\n",
       "    </tr>\n",
       "    <tr>\n",
       "      <th>1</th>\n",
       "      <td>Di Jual Cepat Rumah Ragunan Harga Murah</td>\n",
       "      <td>Rp 2.100.000.000</td>\n",
       "      <td>Pasar Minggu, Jakarta Selatan</td>\n",
       "      <td>3 KT - 3 KM - 139 m2</td>\n",
       "    </tr>\n",
       "    <tr>\n",
       "      <th>2</th>\n",
       "      <td>Kebayoran Baru lokasi dekat stasiun MRT dan Pa...</td>\n",
       "      <td>Rp 5.800.000.000</td>\n",
       "      <td>Kebayoran Baru, Jakarta Selatan</td>\n",
       "      <td>10 KT - 3 KM - 237 m2</td>\n",
       "    </tr>\n",
       "    <tr>\n",
       "      <th>3</th>\n",
       "      <td>South Quarter Residence Tipe 1 BR + Study</td>\n",
       "      <td>Rp 2.617.738.820</td>\n",
       "      <td>Cilandak, Jakarta Selatan</td>\n",
       "      <td>1 KT - 1 KM - 60 m2</td>\n",
       "    </tr>\n",
       "    <tr>\n",
       "      <th>4</th>\n",
       "      <td>Dijual Rumah Pondok Indah Brand New Ada Swimmi...</td>\n",
       "      <td>Rp 9.300.000.000</td>\n",
       "      <td>Jakarta Selatan, Jakarta D.K.I.</td>\n",
       "      <td>3 KT - 2 KM - 390 m2</td>\n",
       "    </tr>\n",
       "  </tbody>\n",
       "</table>\n",
       "</div>"
      ],
      "text/plain": [
       "                                       Properti_Name             Price  \\\n",
       "0  Dijual Rumah Siap Huni, Lingkungan Komplek di ...  Rp 6.000.000.000   \n",
       "1            Di Jual Cepat Rumah Ragunan Harga Murah  Rp 2.100.000.000   \n",
       "2  Kebayoran Baru lokasi dekat stasiun MRT dan Pa...  Rp 5.800.000.000   \n",
       "3          South Quarter Residence Tipe 1 BR + Study  Rp 2.617.738.820   \n",
       "4  Dijual Rumah Pondok Indah Brand New Ada Swimmi...  Rp 9.300.000.000   \n",
       "\n",
       "                            Lokasi                 Detail  \n",
       "0  Kebayoran Baru, Jakarta Selatan   3 KT - 3 KM - 260 m2  \n",
       "1    Pasar Minggu, Jakarta Selatan   3 KT - 3 KM - 139 m2  \n",
       "2  Kebayoran Baru, Jakarta Selatan  10 KT - 3 KM - 237 m2  \n",
       "3        Cilandak, Jakarta Selatan    1 KT - 1 KM - 60 m2  \n",
       "4  Jakarta Selatan, Jakarta D.K.I.   3 KT - 2 KM - 390 m2  "
      ]
     },
     "execution_count": 1,
     "metadata": {},
     "output_type": "execute_result"
    }
   ],
   "source": [
    "import pandas as pd\n",
    "data = pd.read_csv('OLX Selenium Bs4.csv')\n",
    "data.head()"
   ]
  },
  {
   "cell_type": "code",
   "execution_count": 42,
   "metadata": {},
   "outputs": [
    {
     "name": "stdout",
     "output_type": "stream",
     "text": [
      "Properti_Name    0\n",
      "Price            0\n",
      "Lokasi           0\n",
      "Detail           0\n",
      "dtype: int64\n",
      "(510, 4)\n"
     ]
    }
   ],
   "source": [
    "print (data.isnull().sum())\n",
    "print (data.shape)"
   ]
  },
  {
   "cell_type": "markdown",
   "metadata": {},
   "source": [
    "## Split Detail Menjadi Kolom Kamar Mandi, Kamar Tidur, Luas Bangunan"
   ]
  },
  {
   "cell_type": "code",
   "execution_count": 43,
   "metadata": {},
   "outputs": [],
   "source": [
    "def extract_kt(value):\n",
    "    kt = value.split('-')[0].replace('KT', '').strip()\n",
    "    return int(kt.replace('>', '')) if '>' in kt else int(kt)\n",
    "\n",
    "def extract_km(value):\n",
    "    km = value.split('-')[1].replace('KM', '').strip()\n",
    "    return int(km.replace('>', '')) if '>' in km else int(km)\n",
    "\n",
    "def extract_luas(value):\n",
    "    luas = value.split('-')[2].replace('m2', '').strip()\n",
    "    return float(luas)\n",
    "\n",
    "data['Kamar_Mandi'] = data['Detail'].apply(extract_km)\n",
    "data['Kamar_Tidur'] = data['Detail'].apply(extract_kt)\n",
    "data['Luas_Bangunan'] = data['Detail'].apply(extract_luas)"
   ]
  },
  {
   "cell_type": "code",
   "execution_count": 44,
   "metadata": {},
   "outputs": [
    {
     "data": {
      "text/html": [
       "<div>\n",
       "<style scoped>\n",
       "    .dataframe tbody tr th:only-of-type {\n",
       "        vertical-align: middle;\n",
       "    }\n",
       "\n",
       "    .dataframe tbody tr th {\n",
       "        vertical-align: top;\n",
       "    }\n",
       "\n",
       "    .dataframe thead th {\n",
       "        text-align: right;\n",
       "    }\n",
       "</style>\n",
       "<table border=\"1\" class=\"dataframe\">\n",
       "  <thead>\n",
       "    <tr style=\"text-align: right;\">\n",
       "      <th></th>\n",
       "      <th>Properti_Name</th>\n",
       "      <th>Price</th>\n",
       "      <th>Lokasi</th>\n",
       "      <th>Kamar_Mandi</th>\n",
       "      <th>Kamar_Tidur</th>\n",
       "      <th>Luas_Bangunan</th>\n",
       "    </tr>\n",
       "  </thead>\n",
       "  <tbody>\n",
       "    <tr>\n",
       "      <th>0</th>\n",
       "      <td>Dijual Rumah Siap Huni, Lingkungan Komplek di ...</td>\n",
       "      <td>Rp 6.000.000.000</td>\n",
       "      <td>Kebayoran Baru, Jakarta Selatan</td>\n",
       "      <td>3</td>\n",
       "      <td>3</td>\n",
       "      <td>260.0</td>\n",
       "    </tr>\n",
       "    <tr>\n",
       "      <th>1</th>\n",
       "      <td>Di Jual Cepat Rumah Ragunan Harga Murah</td>\n",
       "      <td>Rp 2.100.000.000</td>\n",
       "      <td>Pasar Minggu, Jakarta Selatan</td>\n",
       "      <td>3</td>\n",
       "      <td>3</td>\n",
       "      <td>139.0</td>\n",
       "    </tr>\n",
       "    <tr>\n",
       "      <th>2</th>\n",
       "      <td>Kebayoran Baru lokasi dekat stasiun MRT dan Pa...</td>\n",
       "      <td>Rp 5.800.000.000</td>\n",
       "      <td>Kebayoran Baru, Jakarta Selatan</td>\n",
       "      <td>3</td>\n",
       "      <td>10</td>\n",
       "      <td>237.0</td>\n",
       "    </tr>\n",
       "    <tr>\n",
       "      <th>3</th>\n",
       "      <td>South Quarter Residence Tipe 1 BR + Study</td>\n",
       "      <td>Rp 2.617.738.820</td>\n",
       "      <td>Cilandak, Jakarta Selatan</td>\n",
       "      <td>1</td>\n",
       "      <td>1</td>\n",
       "      <td>60.0</td>\n",
       "    </tr>\n",
       "    <tr>\n",
       "      <th>4</th>\n",
       "      <td>Dijual Rumah Pondok Indah Brand New Ada Swimmi...</td>\n",
       "      <td>Rp 9.300.000.000</td>\n",
       "      <td>Jakarta Selatan, Jakarta D.K.I.</td>\n",
       "      <td>2</td>\n",
       "      <td>3</td>\n",
       "      <td>390.0</td>\n",
       "    </tr>\n",
       "  </tbody>\n",
       "</table>\n",
       "</div>"
      ],
      "text/plain": [
       "                                       Properti_Name             Price  \\\n",
       "0  Dijual Rumah Siap Huni, Lingkungan Komplek di ...  Rp 6.000.000.000   \n",
       "1            Di Jual Cepat Rumah Ragunan Harga Murah  Rp 2.100.000.000   \n",
       "2  Kebayoran Baru lokasi dekat stasiun MRT dan Pa...  Rp 5.800.000.000   \n",
       "3          South Quarter Residence Tipe 1 BR + Study  Rp 2.617.738.820   \n",
       "4  Dijual Rumah Pondok Indah Brand New Ada Swimmi...  Rp 9.300.000.000   \n",
       "\n",
       "                            Lokasi  Kamar_Mandi  Kamar_Tidur  Luas_Bangunan  \n",
       "0  Kebayoran Baru, Jakarta Selatan            3            3          260.0  \n",
       "1    Pasar Minggu, Jakarta Selatan            3            3          139.0  \n",
       "2  Kebayoran Baru, Jakarta Selatan            3           10          237.0  \n",
       "3        Cilandak, Jakarta Selatan            1            1           60.0  \n",
       "4  Jakarta Selatan, Jakarta D.K.I.            2            3          390.0  "
      ]
     },
     "execution_count": 44,
     "metadata": {},
     "output_type": "execute_result"
    }
   ],
   "source": [
    "data.drop([\"Detail\"], inplace=True,axis=1)\n",
    "data.head()"
   ]
  },
  {
   "cell_type": "markdown",
   "metadata": {},
   "source": [
    "## Hapus Jakarta Selatan Pada Kolom Lokasi"
   ]
  },
  {
   "cell_type": "code",
   "execution_count": 45,
   "metadata": {},
   "outputs": [
    {
     "data": {
      "text/html": [
       "<div>\n",
       "<style scoped>\n",
       "    .dataframe tbody tr th:only-of-type {\n",
       "        vertical-align: middle;\n",
       "    }\n",
       "\n",
       "    .dataframe tbody tr th {\n",
       "        vertical-align: top;\n",
       "    }\n",
       "\n",
       "    .dataframe thead th {\n",
       "        text-align: right;\n",
       "    }\n",
       "</style>\n",
       "<table border=\"1\" class=\"dataframe\">\n",
       "  <thead>\n",
       "    <tr style=\"text-align: right;\">\n",
       "      <th></th>\n",
       "      <th>Properti_Name</th>\n",
       "      <th>Price</th>\n",
       "      <th>Lokasi</th>\n",
       "      <th>Kamar_Mandi</th>\n",
       "      <th>Kamar_Tidur</th>\n",
       "      <th>Luas_Bangunan</th>\n",
       "    </tr>\n",
       "  </thead>\n",
       "  <tbody>\n",
       "    <tr>\n",
       "      <th>0</th>\n",
       "      <td>Dijual Rumah Siap Huni, Lingkungan Komplek di ...</td>\n",
       "      <td>Rp 6.000.000.000</td>\n",
       "      <td>Kebayoran Baru</td>\n",
       "      <td>3</td>\n",
       "      <td>3</td>\n",
       "      <td>260.0</td>\n",
       "    </tr>\n",
       "    <tr>\n",
       "      <th>1</th>\n",
       "      <td>Di Jual Cepat Rumah Ragunan Harga Murah</td>\n",
       "      <td>Rp 2.100.000.000</td>\n",
       "      <td>Pasar Minggu</td>\n",
       "      <td>3</td>\n",
       "      <td>3</td>\n",
       "      <td>139.0</td>\n",
       "    </tr>\n",
       "    <tr>\n",
       "      <th>2</th>\n",
       "      <td>Kebayoran Baru lokasi dekat stasiun MRT dan Pa...</td>\n",
       "      <td>Rp 5.800.000.000</td>\n",
       "      <td>Kebayoran Baru</td>\n",
       "      <td>3</td>\n",
       "      <td>10</td>\n",
       "      <td>237.0</td>\n",
       "    </tr>\n",
       "    <tr>\n",
       "      <th>3</th>\n",
       "      <td>South Quarter Residence Tipe 1 BR + Study</td>\n",
       "      <td>Rp 2.617.738.820</td>\n",
       "      <td>Cilandak</td>\n",
       "      <td>1</td>\n",
       "      <td>1</td>\n",
       "      <td>60.0</td>\n",
       "    </tr>\n",
       "    <tr>\n",
       "      <th>4</th>\n",
       "      <td>Dijual Rumah Pondok Indah Brand New Ada Swimmi...</td>\n",
       "      <td>Rp 9.300.000.000</td>\n",
       "      <td>Jakarta Selatan</td>\n",
       "      <td>2</td>\n",
       "      <td>3</td>\n",
       "      <td>390.0</td>\n",
       "    </tr>\n",
       "  </tbody>\n",
       "</table>\n",
       "</div>"
      ],
      "text/plain": [
       "                                       Properti_Name             Price  \\\n",
       "0  Dijual Rumah Siap Huni, Lingkungan Komplek di ...  Rp 6.000.000.000   \n",
       "1            Di Jual Cepat Rumah Ragunan Harga Murah  Rp 2.100.000.000   \n",
       "2  Kebayoran Baru lokasi dekat stasiun MRT dan Pa...  Rp 5.800.000.000   \n",
       "3          South Quarter Residence Tipe 1 BR + Study  Rp 2.617.738.820   \n",
       "4  Dijual Rumah Pondok Indah Brand New Ada Swimmi...  Rp 9.300.000.000   \n",
       "\n",
       "            Lokasi  Kamar_Mandi  Kamar_Tidur  Luas_Bangunan  \n",
       "0   Kebayoran Baru            3            3          260.0  \n",
       "1     Pasar Minggu            3            3          139.0  \n",
       "2   Kebayoran Baru            3           10          237.0  \n",
       "3         Cilandak            1            1           60.0  \n",
       "4  Jakarta Selatan            2            3          390.0  "
      ]
     },
     "execution_count": 45,
     "metadata": {},
     "output_type": "execute_result"
    }
   ],
   "source": [
    "data['Lokasi'] = data['Lokasi'].str.split(',').str[0]\n",
    "data.head()"
   ]
  },
  {
   "cell_type": "markdown",
   "metadata": {},
   "source": [
    "## Pengkategorian Rumah atau Apartemen"
   ]
  },
  {
   "cell_type": "code",
   "execution_count": 46,
   "metadata": {},
   "outputs": [],
   "source": [
    "import re\n",
    "\n",
    "def extract_property_type(name):\n",
    "    if re.search(r\"rumah|house|hunian|cluster|furnished|mansion|terrace|kos|kost|rmh|homie|villa|perumahan|townhouse|bangunan|gedung|home|simatupang|ajb|ruman|kebayoran|brand\", name, re.IGNORECASE):\n",
    "        return \"Rumah\"\n",
    "    elif re.search(r\"apartemen|apartment|residence|apt|tower|condotel|antasari|resd|avenue|shm\", name, re.IGNORECASE):\n",
    "        return \"Apartemen\"\n",
    "    else:\n",
    "        return None\n",
    "\n",
    "data['Properti_Type'] = data['Properti_Name'].apply(extract_property_type)\n"
   ]
  },
  {
   "cell_type": "code",
   "execution_count": 47,
   "metadata": {},
   "outputs": [
    {
     "name": "stdout",
     "output_type": "stream",
     "text": [
      "Empty DataFrame\n",
      "Columns: [Properti_Name, Price, Lokasi, Kamar_Mandi, Kamar_Tidur, Luas_Bangunan, Properti_Type]\n",
      "Index: []\n"
     ]
    }
   ],
   "source": [
    "data_none = data[data['Properti_Type'].isna()]\n",
    "print(data_none)"
   ]
  },
  {
   "cell_type": "markdown",
   "metadata": {},
   "source": [
    "## Hapus RP Pada Kolom Price"
   ]
  },
  {
   "cell_type": "code",
   "execution_count": 48,
   "metadata": {},
   "outputs": [
    {
     "data": {
      "text/html": [
       "<div>\n",
       "<style scoped>\n",
       "    .dataframe tbody tr th:only-of-type {\n",
       "        vertical-align: middle;\n",
       "    }\n",
       "\n",
       "    .dataframe tbody tr th {\n",
       "        vertical-align: top;\n",
       "    }\n",
       "\n",
       "    .dataframe thead th {\n",
       "        text-align: right;\n",
       "    }\n",
       "</style>\n",
       "<table border=\"1\" class=\"dataframe\">\n",
       "  <thead>\n",
       "    <tr style=\"text-align: right;\">\n",
       "      <th></th>\n",
       "      <th>Properti_Name</th>\n",
       "      <th>Price</th>\n",
       "      <th>Lokasi</th>\n",
       "      <th>Kamar_Mandi</th>\n",
       "      <th>Kamar_Tidur</th>\n",
       "      <th>Luas_Bangunan</th>\n",
       "      <th>Properti_Type</th>\n",
       "    </tr>\n",
       "  </thead>\n",
       "  <tbody>\n",
       "    <tr>\n",
       "      <th>0</th>\n",
       "      <td>Dijual Rumah Siap Huni, Lingkungan Komplek di ...</td>\n",
       "      <td>6000000000</td>\n",
       "      <td>Kebayoran Baru</td>\n",
       "      <td>3</td>\n",
       "      <td>3</td>\n",
       "      <td>260.0</td>\n",
       "      <td>Rumah</td>\n",
       "    </tr>\n",
       "    <tr>\n",
       "      <th>1</th>\n",
       "      <td>Di Jual Cepat Rumah Ragunan Harga Murah</td>\n",
       "      <td>2100000000</td>\n",
       "      <td>Pasar Minggu</td>\n",
       "      <td>3</td>\n",
       "      <td>3</td>\n",
       "      <td>139.0</td>\n",
       "      <td>Rumah</td>\n",
       "    </tr>\n",
       "    <tr>\n",
       "      <th>2</th>\n",
       "      <td>Kebayoran Baru lokasi dekat stasiun MRT dan Pa...</td>\n",
       "      <td>5800000000</td>\n",
       "      <td>Kebayoran Baru</td>\n",
       "      <td>3</td>\n",
       "      <td>10</td>\n",
       "      <td>237.0</td>\n",
       "      <td>Rumah</td>\n",
       "    </tr>\n",
       "    <tr>\n",
       "      <th>3</th>\n",
       "      <td>South Quarter Residence Tipe 1 BR + Study</td>\n",
       "      <td>2617738820</td>\n",
       "      <td>Cilandak</td>\n",
       "      <td>1</td>\n",
       "      <td>1</td>\n",
       "      <td>60.0</td>\n",
       "      <td>Apartemen</td>\n",
       "    </tr>\n",
       "    <tr>\n",
       "      <th>4</th>\n",
       "      <td>Dijual Rumah Pondok Indah Brand New Ada Swimmi...</td>\n",
       "      <td>9300000000</td>\n",
       "      <td>Jakarta Selatan</td>\n",
       "      <td>2</td>\n",
       "      <td>3</td>\n",
       "      <td>390.0</td>\n",
       "      <td>Rumah</td>\n",
       "    </tr>\n",
       "  </tbody>\n",
       "</table>\n",
       "</div>"
      ],
      "text/plain": [
       "                                       Properti_Name       Price  \\\n",
       "0  Dijual Rumah Siap Huni, Lingkungan Komplek di ...  6000000000   \n",
       "1            Di Jual Cepat Rumah Ragunan Harga Murah  2100000000   \n",
       "2  Kebayoran Baru lokasi dekat stasiun MRT dan Pa...  5800000000   \n",
       "3          South Quarter Residence Tipe 1 BR + Study  2617738820   \n",
       "4  Dijual Rumah Pondok Indah Brand New Ada Swimmi...  9300000000   \n",
       "\n",
       "            Lokasi  Kamar_Mandi  Kamar_Tidur  Luas_Bangunan Properti_Type  \n",
       "0   Kebayoran Baru            3            3          260.0         Rumah  \n",
       "1     Pasar Minggu            3            3          139.0         Rumah  \n",
       "2   Kebayoran Baru            3           10          237.0         Rumah  \n",
       "3         Cilandak            1            1           60.0     Apartemen  \n",
       "4  Jakarta Selatan            2            3          390.0         Rumah  "
      ]
     },
     "execution_count": 48,
     "metadata": {},
     "output_type": "execute_result"
    }
   ],
   "source": [
    "data['Price'] = data['Price'].str.replace(r'[^\\d]', '', regex=True)\n",
    "data['Price'] = pd.to_numeric(data['Price'], errors='coerce')\n",
    "data.head()"
   ]
  },
  {
   "cell_type": "markdown",
   "metadata": {},
   "source": [
    "## Pengecekan dan Penanganan Outlier Kolom Price"
   ]
  },
  {
   "cell_type": "code",
   "execution_count": 49,
   "metadata": {},
   "outputs": [],
   "source": [
    "import seaborn as sns\n",
    "import matplotlib.pyplot as plt\n",
    "import numpy as np"
   ]
  },
  {
   "cell_type": "code",
   "execution_count": 50,
   "metadata": {},
   "outputs": [
    {
     "data": {
      "text/plain": [
       "<Axes: ylabel='Price'>"
      ]
     },
     "execution_count": 50,
     "metadata": {},
     "output_type": "execute_result"
    },
    {
     "data": {
      "image/png": "[encoded data removed]",
      "text/plain": [
       "<Figure size 640x480 with 1 Axes>"
      ]
     },
     "metadata": {},
     "output_type": "display_data"
    }
   ],
   "source": [
    "sns.boxplot(data['Price'])"
   ]
  },
  {
   "cell_type": "code",
   "execution_count": 51,
   "metadata": {},
   "outputs": [],
   "source": [
    "#membuat fungsi cek outlier.\n",
    "def cek_outlier(nama_kolom, batas):\n",
    "  Q1 = np.percentile(data[nama_kolom], 25,\n",
    "                     interpolation = 'midpoint')\n",
    "\n",
    "  Q3 = np.percentile(data[nama_kolom], 75,\n",
    "                     interpolation = 'midpoint')\n",
    "\n",
    "  IQR = Q3 - Q1\n",
    "\n",
    "  if batas == 'upper_bound':\n",
    "      bound = np.where(data[nama_kolom] >= (Q3 + 1.5*IQR))\n",
    "  elif batas == 'lower_bound':\n",
    "      bound = np.where(data[nama_kolom] <= (Q1 - 1.5*IQR))\n",
    "  return list(bound[0])"
   ]
  },
  {
   "cell_type": "code",
   "execution_count": 52,
   "metadata": {},
   "outputs": [
    {
     "name": "stdout",
     "output_type": "stream",
     "text": [
      "Jumlah total outlier di kolom Price : 44\n"
     ]
    },
    {
     "name": "stderr",
     "output_type": "stream",
     "text": [
      "C:\\Users\\ASUS\\AppData\\Local\\Temp\\ipykernel_11184\\427787737.py:2: DeprecationWarning: the `interpolation=` argument to percentile was renamed to `method=`, which has additional options.\n",
      "Users of the modes 'nearest', 'lower', 'higher', or 'midpoint' are encouraged to review the method they used. (Deprecated NumPy 1.22)\n",
      "  upper_Price= cek_outlier('Price', 'upper_bound')\n",
      "C:\\Users\\ASUS\\AppData\\Local\\Temp\\ipykernel_11184\\427787737.py:3: DeprecationWarning: the `interpolation=` argument to percentile was renamed to `method=`, which has additional options.\n",
      "Users of the modes 'nearest', 'lower', 'higher', or 'midpoint' are encouraged to review the method they used. (Deprecated NumPy 1.22)\n",
      "  lower_Price = cek_outlier('Price', 'lower_bound')\n"
     ]
    }
   ],
   "source": [
    "#menjalankan fungsi untuk mendapatkan index data yang merupakan outlier\n",
    "upper_Price= cek_outlier('Price', 'upper_bound')\n",
    "lower_Price = cek_outlier('Price', 'lower_bound')\n",
    "print(f\"Jumlah total outlier di kolom Price : {len(upper_Price) + len(lower_Price)}\")\n",
    "\n",
    "#menghitung batas bawah dan atas\n",
    "Q1 = np.percentile(data['Price'], 25, interpolation='midpoint')\n",
    "Q3 = np.percentile(data['Price'], 75, interpolation='midpoint')\n",
    "IQR = Q3 - Q1\n",
    "lower_bound = Q1 - 1.5 * IQR\n",
    "upper_bound = Q3 + 1.5 * IQR\n",
    "\n",
    "data['Price'] = data['Price'].clip(lower=lower_bound, upper=upper_bound) # Now using calculated lower_bound and upper_bound"
   ]
  },
  {
   "cell_type": "code",
   "execution_count": 53,
   "metadata": {},
   "outputs": [
    {
     "data": {
      "text/plain": [
       "<Axes: ylabel='Price'>"
      ]
     },
     "execution_count": 53,
     "metadata": {},
     "output_type": "execute_result"
    },
    {
     "data": {
      "image/png": "[encoded data removed]",
      "text/plain": [
       "<Figure size 640x480 with 1 Axes>"
      ]
     },
     "metadata": {},
     "output_type": "display_data"
    }
   ],
   "source": [
    "sns.boxplot(data['Price'])"
   ]
  },
  {
   "cell_type": "markdown",
   "metadata": {},
   "source": [
    "## Pengelompokkan Price Menjadi Kategori Murah, Sedang, dan Mahal"
   ]
  },
  {
   "cell_type": "code",
   "execution_count": 54,
   "metadata": {},
   "outputs": [
    {
     "name": "stderr",
     "output_type": "stream",
     "text": [
      "C:\\Users\\ASUS\\AppData\\Local\\Temp\\ipykernel_11184\\139619767.py:3: UserWarning: \n",
      "\n",
      "`distplot` is a deprecated function and will be removed in seaborn v0.14.0.\n",
      "\n",
      "Please adapt your code to use either `displot` (a figure-level function with\n",
      "similar flexibility) or `histplot` (an axes-level function for histograms).\n",
      "\n",
      "For a guide to updating your code to use the new functions, please see\n",
      "https://gist.github.com/mwaskom/de44147ed2974457ad6372750bbe5751\n",
      "\n",
      "  sns.distplot(data['Price'], kde=True, hist=True)\n"
     ]
    },
    {
     "data": {
      "image/png": "[encoded data removed]",
      "text/plain": [
       "<Figure size 1500x600 with 1 Axes>"
      ]
     },
     "metadata": {},
     "output_type": "display_data"
    }
   ],
   "source": [
    "#membuat distplot dengan harga asli\n",
    "plt.figure(figsize=(15, 6))\n",
    "sns.distplot(data['Price'], kde=True, hist=True)\n",
    "\n",
    "#memastikan label sumbu x menunjukkan harga asli\n",
    "plt.title('Distribusi Harga Properti', fontsize=14)\n",
    "plt.xlabel('Harga Properti (Rp)', fontsize=12)\n",
    "plt.ylabel('Density', fontsize=12)\n",
    "plt.ticklabel_format(style='plain', axis='x')  # Menonaktifkan format ilmiah untuk sumbu x\n",
    "plt.show()"
   ]
  },
  {
   "cell_type": "code",
   "execution_count": 55,
   "metadata": {},
   "outputs": [
    {
     "data": {
      "text/html": [
       "<div>\n",
       "<style scoped>\n",
       "    .dataframe tbody tr th:only-of-type {\n",
       "        vertical-align: middle;\n",
       "    }\n",
       "\n",
       "    .dataframe tbody tr th {\n",
       "        vertical-align: top;\n",
       "    }\n",
       "\n",
       "    .dataframe thead th {\n",
       "        text-align: right;\n",
       "    }\n",
       "</style>\n",
       "<table border=\"1\" class=\"dataframe\">\n",
       "  <thead>\n",
       "    <tr style=\"text-align: right;\">\n",
       "      <th></th>\n",
       "      <th>Properti_Name</th>\n",
       "      <th>Price</th>\n",
       "      <th>Lokasi</th>\n",
       "      <th>Kamar_Mandi</th>\n",
       "      <th>Kamar_Tidur</th>\n",
       "      <th>Luas_Bangunan</th>\n",
       "      <th>Properti_Type</th>\n",
       "      <th>Price_Category</th>\n",
       "    </tr>\n",
       "  </thead>\n",
       "  <tbody>\n",
       "    <tr>\n",
       "      <th>0</th>\n",
       "      <td>Dijual Rumah Siap Huni, Lingkungan Komplek di ...</td>\n",
       "      <td>6000000000</td>\n",
       "      <td>Kebayoran Baru</td>\n",
       "      <td>3</td>\n",
       "      <td>3</td>\n",
       "      <td>260.0</td>\n",
       "      <td>Rumah</td>\n",
       "      <td>Murah</td>\n",
       "    </tr>\n",
       "    <tr>\n",
       "      <th>1</th>\n",
       "      <td>Di Jual Cepat Rumah Ragunan Harga Murah</td>\n",
       "      <td>2100000000</td>\n",
       "      <td>Pasar Minggu</td>\n",
       "      <td>3</td>\n",
       "      <td>3</td>\n",
       "      <td>139.0</td>\n",
       "      <td>Rumah</td>\n",
       "      <td>Murah</td>\n",
       "    </tr>\n",
       "    <tr>\n",
       "      <th>2</th>\n",
       "      <td>Kebayoran Baru lokasi dekat stasiun MRT dan Pa...</td>\n",
       "      <td>5800000000</td>\n",
       "      <td>Kebayoran Baru</td>\n",
       "      <td>3</td>\n",
       "      <td>10</td>\n",
       "      <td>237.0</td>\n",
       "      <td>Rumah</td>\n",
       "      <td>Murah</td>\n",
       "    </tr>\n",
       "    <tr>\n",
       "      <th>3</th>\n",
       "      <td>South Quarter Residence Tipe 1 BR + Study</td>\n",
       "      <td>2617738820</td>\n",
       "      <td>Cilandak</td>\n",
       "      <td>1</td>\n",
       "      <td>1</td>\n",
       "      <td>60.0</td>\n",
       "      <td>Apartemen</td>\n",
       "      <td>Murah</td>\n",
       "    </tr>\n",
       "    <tr>\n",
       "      <th>4</th>\n",
       "      <td>Dijual Rumah Pondok Indah Brand New Ada Swimmi...</td>\n",
       "      <td>9300000000</td>\n",
       "      <td>Jakarta Selatan</td>\n",
       "      <td>2</td>\n",
       "      <td>3</td>\n",
       "      <td>390.0</td>\n",
       "      <td>Rumah</td>\n",
       "      <td>Murah</td>\n",
       "    </tr>\n",
       "  </tbody>\n",
       "</table>\n",
       "</div>"
      ],
      "text/plain": [
       "                                       Properti_Name       Price  \\\n",
       "0  Dijual Rumah Siap Huni, Lingkungan Komplek di ...  6000000000   \n",
       "1            Di Jual Cepat Rumah Ragunan Harga Murah  2100000000   \n",
       "2  Kebayoran Baru lokasi dekat stasiun MRT dan Pa...  5800000000   \n",
       "3          South Quarter Residence Tipe 1 BR + Study  2617738820   \n",
       "4  Dijual Rumah Pondok Indah Brand New Ada Swimmi...  9300000000   \n",
       "\n",
       "            Lokasi  Kamar_Mandi  Kamar_Tidur  Luas_Bangunan Properti_Type  \\\n",
       "0   Kebayoran Baru            3            3          260.0         Rumah   \n",
       "1     Pasar Minggu            3            3          139.0         Rumah   \n",
       "2   Kebayoran Baru            3           10          237.0         Rumah   \n",
       "3         Cilandak            1            1           60.0     Apartemen   \n",
       "4  Jakarta Selatan            2            3          390.0         Rumah   \n",
       "\n",
       "  Price_Category  \n",
       "0          Murah  \n",
       "1          Murah  \n",
       "2          Murah  \n",
       "3          Murah  \n",
       "4          Murah  "
      ]
     },
     "execution_count": 55,
     "metadata": {},
     "output_type": "execute_result"
    }
   ],
   "source": [
    "#membuat kategori berdasarkan rentang harga\n",
    "data['Price_Category'] = pd.cut(\n",
    "    data['Price'],\n",
    "    bins=[0, 12500000000, 25000000000, float('inf')],\n",
    "    labels=['Murah', 'Sedang', 'Mahal']\n",
    ")\n",
    "\n",
    "#menampilkan hasil\n",
    "data.head()"
   ]
  },
  {
   "cell_type": "markdown",
   "metadata": {},
   "source": [
    "## Pengecekan dan Penanganan Outlier Kolom Luas Bangunan"
   ]
  },
  {
   "cell_type": "code",
   "execution_count": 56,
   "metadata": {},
   "outputs": [
    {
     "data": {
      "text/plain": [
       "<Axes: ylabel='Luas_Bangunan'>"
      ]
     },
     "execution_count": 56,
     "metadata": {},
     "output_type": "execute_result"
    },
    {
     "data": {
      "image/png": "[encoded data removed]",
      "text/plain": [
       "<Figure size 640x480 with 1 Axes>"
      ]
     },
     "metadata": {},
     "output_type": "display_data"
    }
   ],
   "source": [
    "sns.boxplot(data['Luas_Bangunan'])"
   ]
  },
  {
   "cell_type": "code",
   "execution_count": 57,
   "metadata": {},
   "outputs": [],
   "source": [
    "#membuat fungsi cek outlier.\n",
    "def cek_outlier(nama_kolom, batas):\n",
    "  Q1 = np.percentile(data[nama_kolom], 25,\n",
    "                     interpolation = 'midpoint')\n",
    "\n",
    "  Q3 = np.percentile(data[nama_kolom], 75,\n",
    "                     interpolation = 'midpoint')\n",
    "\n",
    "  IQR = Q3 - Q1\n",
    "\n",
    "  if batas == 'upper_bound':\n",
    "      bound = np.where(data[nama_kolom] >= (Q3 + 1.5*IQR))\n",
    "  elif batas == 'lower_bound':\n",
    "      bound = np.where(data[nama_kolom] <= (Q1 - 1.5*IQR))\n",
    "  return list(bound[0])"
   ]
  },
  {
   "cell_type": "code",
   "execution_count": 58,
   "metadata": {},
   "outputs": [
    {
     "name": "stdout",
     "output_type": "stream",
     "text": [
      "Jumlah total outlier di kolom Luas_Bangunan : 24\n"
     ]
    },
    {
     "name": "stderr",
     "output_type": "stream",
     "text": [
      "C:\\Users\\ASUS\\AppData\\Local\\Temp\\ipykernel_11184\\1313001475.py:2: DeprecationWarning: the `interpolation=` argument to percentile was renamed to `method=`, which has additional options.\n",
      "Users of the modes 'nearest', 'lower', 'higher', or 'midpoint' are encouraged to review the method they used. (Deprecated NumPy 1.22)\n",
      "  upper_Luas= cek_outlier('Luas_Bangunan', 'upper_bound')\n",
      "C:\\Users\\ASUS\\AppData\\Local\\Temp\\ipykernel_11184\\1313001475.py:3: DeprecationWarning: the `interpolation=` argument to percentile was renamed to `method=`, which has additional options.\n",
      "Users of the modes 'nearest', 'lower', 'higher', or 'midpoint' are encouraged to review the method they used. (Deprecated NumPy 1.22)\n",
      "  lower_Luas = cek_outlier('Luas_Bangunan', 'lower_bound')\n"
     ]
    }
   ],
   "source": [
    "#menjalankan fungsi untuk mendapatkan index data yang merupakan outlier\n",
    "upper_Luas= cek_outlier('Luas_Bangunan', 'upper_bound')\n",
    "lower_Luas = cek_outlier('Luas_Bangunan', 'lower_bound')\n",
    "print(f\"Jumlah total outlier di kolom Luas_Bangunan : {len(upper_Luas) + len(lower_Luas)}\")\n",
    "\n",
    "#menghitung batas bawah dan atas\n",
    "Q1 = np.percentile(data['Luas_Bangunan'], 25, interpolation='midpoint')\n",
    "Q3 = np.percentile(data['Luas_Bangunan'], 75, interpolation='midpoint')\n",
    "IQR = Q3 - Q1\n",
    "lower_bound = Q1 - 1.5 * IQR\n",
    "upper_bound = Q3 + 1.5 * IQR\n",
    "\n",
    "data['Luas_Bangunan'] = data['Luas_Bangunan'].clip(lower=lower_bound, upper=upper_bound)"
   ]
  },
  {
   "cell_type": "code",
   "execution_count": 59,
   "metadata": {},
   "outputs": [
    {
     "data": {
      "text/plain": [
       "<Axes: ylabel='Luas_Bangunan'>"
      ]
     },
     "execution_count": 59,
     "metadata": {},
     "output_type": "execute_result"
    },
    {
     "data": {
      "image/png": "[encoded data removed]",
      "text/plain": [
       "<Figure size 640x480 with 1 Axes>"
      ]
     },
     "metadata": {},
     "output_type": "display_data"
    }
   ],
   "source": [
    "sns.boxplot(data['Luas_Bangunan'])"
   ]
  },
  {
   "cell_type": "markdown",
   "metadata": {},
   "source": [
    "## Pengelompokkan Luas Bangunan Menjadi Kategori Sempit, Sedang, dan Luas"
   ]
  },
  {
   "cell_type": "code",
   "execution_count": 60,
   "metadata": {},
   "outputs": [
    {
     "name": "stderr",
     "output_type": "stream",
     "text": [
      "C:\\Users\\ASUS\\AppData\\Local\\Temp\\ipykernel_11184\\2341509980.py:3: UserWarning: \n",
      "\n",
      "`distplot` is a deprecated function and will be removed in seaborn v0.14.0.\n",
      "\n",
      "Please adapt your code to use either `displot` (a figure-level function with\n",
      "similar flexibility) or `histplot` (an axes-level function for histograms).\n",
      "\n",
      "For a guide to updating your code to use the new functions, please see\n",
      "https://gist.github.com/mwaskom/de44147ed2974457ad6372750bbe5751\n",
      "\n",
      "  sns.distplot(data['Luas_Bangunan'], kde=True, hist=True)\n"
     ]
    },
    {
     "data": {
      "image/png": "[encoded data removed]",
      "text/plain": [
       "<Figure size 1500x600 with 1 Axes>"
      ]
     },
     "metadata": {},
     "output_type": "display_data"
    }
   ],
   "source": [
    "#membuat distplot dengan luas bangunan\n",
    "plt.figure(figsize=(15, 6))\n",
    "sns.distplot(data['Luas_Bangunan'], kde=True, hist=True)\n",
    "\n",
    "#memastikan label sumbu x menunjukkan luas bangunan\n",
    "plt.title('Distribusi Luas_Bangunan', fontsize=14)\n",
    "plt.xlabel('Luas_Bangunan (m2)', fontsize=12)\n",
    "plt.ylabel('Density', fontsize=12)\n",
    "plt.ticklabel_format(style='plain', axis='x')  # Menonaktifkan format ilmiah untuk sumbu x\n",
    "plt.show()"
   ]
  },
  {
   "cell_type": "code",
   "execution_count": 61,
   "metadata": {},
   "outputs": [
    {
     "data": {
      "text/html": [
       "<div>\n",
       "<style scoped>\n",
       "    .dataframe tbody tr th:only-of-type {\n",
       "        vertical-align: middle;\n",
       "    }\n",
       "\n",
       "    .dataframe tbody tr th {\n",
       "        vertical-align: top;\n",
       "    }\n",
       "\n",
       "    .dataframe thead th {\n",
       "        text-align: right;\n",
       "    }\n",
       "</style>\n",
       "<table border=\"1\" class=\"dataframe\">\n",
       "  <thead>\n",
       "    <tr style=\"text-align: right;\">\n",
       "      <th></th>\n",
       "      <th>Properti_Name</th>\n",
       "      <th>Price</th>\n",
       "      <th>Lokasi</th>\n",
       "      <th>Kamar_Mandi</th>\n",
       "      <th>Kamar_Tidur</th>\n",
       "      <th>Luas_Bangunan</th>\n",
       "      <th>Properti_Type</th>\n",
       "      <th>Price_Category</th>\n",
       "    </tr>\n",
       "  </thead>\n",
       "  <tbody>\n",
       "    <tr>\n",
       "      <th>0</th>\n",
       "      <td>Dijual Rumah Siap Huni, Lingkungan Komplek di ...</td>\n",
       "      <td>6000000000</td>\n",
       "      <td>Kebayoran Baru</td>\n",
       "      <td>3</td>\n",
       "      <td>3</td>\n",
       "      <td>Sempit</td>\n",
       "      <td>Rumah</td>\n",
       "      <td>Murah</td>\n",
       "    </tr>\n",
       "    <tr>\n",
       "      <th>1</th>\n",
       "      <td>Di Jual Cepat Rumah Ragunan Harga Murah</td>\n",
       "      <td>2100000000</td>\n",
       "      <td>Pasar Minggu</td>\n",
       "      <td>3</td>\n",
       "      <td>3</td>\n",
       "      <td>Sempit</td>\n",
       "      <td>Rumah</td>\n",
       "      <td>Murah</td>\n",
       "    </tr>\n",
       "    <tr>\n",
       "      <th>2</th>\n",
       "      <td>Kebayoran Baru lokasi dekat stasiun MRT dan Pa...</td>\n",
       "      <td>5800000000</td>\n",
       "      <td>Kebayoran Baru</td>\n",
       "      <td>3</td>\n",
       "      <td>10</td>\n",
       "      <td>Sempit</td>\n",
       "      <td>Rumah</td>\n",
       "      <td>Murah</td>\n",
       "    </tr>\n",
       "    <tr>\n",
       "      <th>3</th>\n",
       "      <td>South Quarter Residence Tipe 1 BR + Study</td>\n",
       "      <td>2617738820</td>\n",
       "      <td>Cilandak</td>\n",
       "      <td>1</td>\n",
       "      <td>1</td>\n",
       "      <td>Sempit</td>\n",
       "      <td>Apartemen</td>\n",
       "      <td>Murah</td>\n",
       "    </tr>\n",
       "    <tr>\n",
       "      <th>4</th>\n",
       "      <td>Dijual Rumah Pondok Indah Brand New Ada Swimmi...</td>\n",
       "      <td>9300000000</td>\n",
       "      <td>Jakarta Selatan</td>\n",
       "      <td>2</td>\n",
       "      <td>3</td>\n",
       "      <td>Sempit</td>\n",
       "      <td>Rumah</td>\n",
       "      <td>Murah</td>\n",
       "    </tr>\n",
       "  </tbody>\n",
       "</table>\n",
       "</div>"
      ],
      "text/plain": [
       "                                       Properti_Name       Price  \\\n",
       "0  Dijual Rumah Siap Huni, Lingkungan Komplek di ...  6000000000   \n",
       "1            Di Jual Cepat Rumah Ragunan Harga Murah  2100000000   \n",
       "2  Kebayoran Baru lokasi dekat stasiun MRT dan Pa...  5800000000   \n",
       "3          South Quarter Residence Tipe 1 BR + Study  2617738820   \n",
       "4  Dijual Rumah Pondok Indah Brand New Ada Swimmi...  9300000000   \n",
       "\n",
       "            Lokasi  Kamar_Mandi  Kamar_Tidur Luas_Bangunan Properti_Type  \\\n",
       "0   Kebayoran Baru            3            3        Sempit         Rumah   \n",
       "1     Pasar Minggu            3            3        Sempit         Rumah   \n",
       "2   Kebayoran Baru            3           10        Sempit         Rumah   \n",
       "3         Cilandak            1            1        Sempit     Apartemen   \n",
       "4  Jakarta Selatan            2            3        Sempit         Rumah   \n",
       "\n",
       "  Price_Category  \n",
       "0          Murah  \n",
       "1          Murah  \n",
       "2          Murah  \n",
       "3          Murah  \n",
       "4          Murah  "
      ]
     },
     "execution_count": 61,
     "metadata": {},
     "output_type": "execute_result"
    }
   ],
   "source": [
    "#membuat kategori berdasarkan rentang luas bangunan\n",
    "data['Luas_Bangunan'] = pd.cut(\n",
    "    data['Luas_Bangunan'],\n",
    "    bins=[0, 400, 800, float('inf')],\n",
    "    labels=['Sempit', 'Sedang', 'Luas']\n",
    ")\n",
    "\n",
    "#menampilkan hasil\n",
    "data.head()"
   ]
  },
  {
   "cell_type": "markdown",
   "metadata": {},
   "source": [
    "## Penghapusan Kolom"
   ]
  },
  {
   "cell_type": "code",
   "execution_count": 62,
   "metadata": {},
   "outputs": [
    {
     "data": {
      "text/html": [
       "<div>\n",
       "<style scoped>\n",
       "    .dataframe tbody tr th:only-of-type {\n",
       "        vertical-align: middle;\n",
       "    }\n",
       "\n",
       "    .dataframe tbody tr th {\n",
       "        vertical-align: top;\n",
       "    }\n",
       "\n",
       "    .dataframe thead th {\n",
       "        text-align: right;\n",
       "    }\n",
       "</style>\n",
       "<table border=\"1\" class=\"dataframe\">\n",
       "  <thead>\n",
       "    <tr style=\"text-align: right;\">\n",
       "      <th></th>\n",
       "      <th>Properti_Name</th>\n",
       "      <th>Lokasi</th>\n",
       "      <th>Kamar_Mandi</th>\n",
       "      <th>Kamar_Tidur</th>\n",
       "      <th>Luas_Bangunan</th>\n",
       "      <th>Properti_Type</th>\n",
       "      <th>Price_Category</th>\n",
       "    </tr>\n",
       "  </thead>\n",
       "  <tbody>\n",
       "    <tr>\n",
       "      <th>0</th>\n",
       "      <td>Dijual Rumah Siap Huni, Lingkungan Komplek di ...</td>\n",
       "      <td>Kebayoran Baru</td>\n",
       "      <td>3</td>\n",
       "      <td>3</td>\n",
       "      <td>Sempit</td>\n",
       "      <td>Rumah</td>\n",
       "      <td>Murah</td>\n",
       "    </tr>\n",
       "    <tr>\n",
       "      <th>1</th>\n",
       "      <td>Di Jual Cepat Rumah Ragunan Harga Murah</td>\n",
       "      <td>Pasar Minggu</td>\n",
       "      <td>3</td>\n",
       "      <td>3</td>\n",
       "      <td>Sempit</td>\n",
       "      <td>Rumah</td>\n",
       "      <td>Murah</td>\n",
       "    </tr>\n",
       "    <tr>\n",
       "      <th>2</th>\n",
       "      <td>Kebayoran Baru lokasi dekat stasiun MRT dan Pa...</td>\n",
       "      <td>Kebayoran Baru</td>\n",
       "      <td>3</td>\n",
       "      <td>10</td>\n",
       "      <td>Sempit</td>\n",
       "      <td>Rumah</td>\n",
       "      <td>Murah</td>\n",
       "    </tr>\n",
       "    <tr>\n",
       "      <th>3</th>\n",
       "      <td>South Quarter Residence Tipe 1 BR + Study</td>\n",
       "      <td>Cilandak</td>\n",
       "      <td>1</td>\n",
       "      <td>1</td>\n",
       "      <td>Sempit</td>\n",
       "      <td>Apartemen</td>\n",
       "      <td>Murah</td>\n",
       "    </tr>\n",
       "    <tr>\n",
       "      <th>4</th>\n",
       "      <td>Dijual Rumah Pondok Indah Brand New Ada Swimmi...</td>\n",
       "      <td>Jakarta Selatan</td>\n",
       "      <td>2</td>\n",
       "      <td>3</td>\n",
       "      <td>Sempit</td>\n",
       "      <td>Rumah</td>\n",
       "      <td>Murah</td>\n",
       "    </tr>\n",
       "  </tbody>\n",
       "</table>\n",
       "</div>"
      ],
      "text/plain": [
       "                                       Properti_Name           Lokasi  \\\n",
       "0  Dijual Rumah Siap Huni, Lingkungan Komplek di ...   Kebayoran Baru   \n",
       "1            Di Jual Cepat Rumah Ragunan Harga Murah     Pasar Minggu   \n",
       "2  Kebayoran Baru lokasi dekat stasiun MRT dan Pa...   Kebayoran Baru   \n",
       "3          South Quarter Residence Tipe 1 BR + Study         Cilandak   \n",
       "4  Dijual Rumah Pondok Indah Brand New Ada Swimmi...  Jakarta Selatan   \n",
       "\n",
       "   Kamar_Mandi  Kamar_Tidur Luas_Bangunan Properti_Type Price_Category  \n",
       "0            3            3        Sempit         Rumah          Murah  \n",
       "1            3            3        Sempit         Rumah          Murah  \n",
       "2            3           10        Sempit         Rumah          Murah  \n",
       "3            1            1        Sempit     Apartemen          Murah  \n",
       "4            2            3        Sempit         Rumah          Murah  "
      ]
     },
     "execution_count": 62,
     "metadata": {},
     "output_type": "execute_result"
    }
   ],
   "source": [
    "data.drop([\"Price\"], inplace=True,axis=1)\n",
    "data.head()"
   ]
  },
  {
   "cell_type": "code",
   "execution_count": 63,
   "metadata": {},
   "outputs": [
    {
     "data": {
      "text/html": [
       "<div>\n",
       "<style scoped>\n",
       "    .dataframe tbody tr th:only-of-type {\n",
       "        vertical-align: middle;\n",
       "    }\n",
       "\n",
       "    .dataframe tbody tr th {\n",
       "        vertical-align: top;\n",
       "    }\n",
       "\n",
       "    .dataframe thead th {\n",
       "        text-align: right;\n",
       "    }\n",
       "</style>\n",
       "<table border=\"1\" class=\"dataframe\">\n",
       "  <thead>\n",
       "    <tr style=\"text-align: right;\">\n",
       "      <th></th>\n",
       "      <th>Lokasi</th>\n",
       "      <th>Kamar_Mandi</th>\n",
       "      <th>Kamar_Tidur</th>\n",
       "      <th>Luas_Bangunan</th>\n",
       "      <th>Properti_Type</th>\n",
       "      <th>Price_Category</th>\n",
       "    </tr>\n",
       "  </thead>\n",
       "  <tbody>\n",
       "    <tr>\n",
       "      <th>0</th>\n",
       "      <td>Kebayoran Baru</td>\n",
       "      <td>3</td>\n",
       "      <td>3</td>\n",
       "      <td>Sempit</td>\n",
       "      <td>Rumah</td>\n",
       "      <td>Murah</td>\n",
       "    </tr>\n",
       "    <tr>\n",
       "      <th>1</th>\n",
       "      <td>Pasar Minggu</td>\n",
       "      <td>3</td>\n",
       "      <td>3</td>\n",
       "      <td>Sempit</td>\n",
       "      <td>Rumah</td>\n",
       "      <td>Murah</td>\n",
       "    </tr>\n",
       "    <tr>\n",
       "      <th>2</th>\n",
       "      <td>Kebayoran Baru</td>\n",
       "      <td>3</td>\n",
       "      <td>10</td>\n",
       "      <td>Sempit</td>\n",
       "      <td>Rumah</td>\n",
       "      <td>Murah</td>\n",
       "    </tr>\n",
       "    <tr>\n",
       "      <th>3</th>\n",
       "      <td>Cilandak</td>\n",
       "      <td>1</td>\n",
       "      <td>1</td>\n",
       "      <td>Sempit</td>\n",
       "      <td>Apartemen</td>\n",
       "      <td>Murah</td>\n",
       "    </tr>\n",
       "    <tr>\n",
       "      <th>4</th>\n",
       "      <td>Jakarta Selatan</td>\n",
       "      <td>2</td>\n",
       "      <td>3</td>\n",
       "      <td>Sempit</td>\n",
       "      <td>Rumah</td>\n",
       "      <td>Murah</td>\n",
       "    </tr>\n",
       "  </tbody>\n",
       "</table>\n",
       "</div>"
      ],
      "text/plain": [
       "            Lokasi  Kamar_Mandi  Kamar_Tidur Luas_Bangunan Properti_Type  \\\n",
       "0   Kebayoran Baru            3            3        Sempit         Rumah   \n",
       "1     Pasar Minggu            3            3        Sempit         Rumah   \n",
       "2   Kebayoran Baru            3           10        Sempit         Rumah   \n",
       "3         Cilandak            1            1        Sempit     Apartemen   \n",
       "4  Jakarta Selatan            2            3        Sempit         Rumah   \n",
       "\n",
       "  Price_Category  \n",
       "0          Murah  \n",
       "1          Murah  \n",
       "2          Murah  \n",
       "3          Murah  \n",
       "4          Murah  "
      ]
     },
     "execution_count": 63,
     "metadata": {},
     "output_type": "execute_result"
    }
   ],
   "source": [
    "data.drop([\"Properti_Name\"], inplace=True,axis=1)\n",
    "data.head()"
   ]
  },
  {
   "cell_type": "code",
   "execution_count": 64,
   "metadata": {},
   "outputs": [],
   "source": [
    "data.to_excel('pelabelan_properti.xlsx', index=False)"
   ]
  },
  {
   "cell_type": "markdown",
   "metadata": {},
   "source": [
    "# Analisis Data Eksplorasi (EDA)"
   ]
  },
  {
   "cell_type": "code",
   "execution_count": 2,
   "metadata": {},
   "outputs": [
    {
     "data": {
      "text/html": [
       "<div>\n",
       "<style scoped>\n",
       "    .dataframe tbody tr th:only-of-type {\n",
       "        vertical-align: middle;\n",
       "    }\n",
       "\n",
       "    .dataframe tbody tr th {\n",
       "        vertical-align: top;\n",
       "    }\n",
       "\n",
       "    .dataframe thead th {\n",
       "        text-align: right;\n",
       "    }\n",
       "</style>\n",
       "<table border=\"1\" class=\"dataframe\">\n",
       "  <thead>\n",
       "    <tr style=\"text-align: right;\">\n",
       "      <th></th>\n",
       "      <th>Lokasi</th>\n",
       "      <th>Kamar_Mandi</th>\n",
       "      <th>Kamar_Tidur</th>\n",
       "      <th>Luas_Bangunan</th>\n",
       "      <th>Properti_Type</th>\n",
       "      <th>Price_Category</th>\n",
       "      <th>Investasi</th>\n",
       "    </tr>\n",
       "  </thead>\n",
       "  <tbody>\n",
       "    <tr>\n",
       "      <th>0</th>\n",
       "      <td>Kebayoran Baru</td>\n",
       "      <td>3</td>\n",
       "      <td>3</td>\n",
       "      <td>Sempit</td>\n",
       "      <td>Rumah</td>\n",
       "      <td>Murah</td>\n",
       "      <td>Layak</td>\n",
       "    </tr>\n",
       "    <tr>\n",
       "      <th>1</th>\n",
       "      <td>Pasar Minggu</td>\n",
       "      <td>3</td>\n",
       "      <td>3</td>\n",
       "      <td>Sempit</td>\n",
       "      <td>Rumah</td>\n",
       "      <td>Murah</td>\n",
       "      <td>Layak</td>\n",
       "    </tr>\n",
       "    <tr>\n",
       "      <th>2</th>\n",
       "      <td>Kebayoran Baru</td>\n",
       "      <td>3</td>\n",
       "      <td>10</td>\n",
       "      <td>Sempit</td>\n",
       "      <td>Rumah</td>\n",
       "      <td>Murah</td>\n",
       "      <td>Layak</td>\n",
       "    </tr>\n",
       "    <tr>\n",
       "      <th>3</th>\n",
       "      <td>Cilandak</td>\n",
       "      <td>1</td>\n",
       "      <td>1</td>\n",
       "      <td>Sempit</td>\n",
       "      <td>Apartemen</td>\n",
       "      <td>Murah</td>\n",
       "      <td>Tidak Layak</td>\n",
       "    </tr>\n",
       "    <tr>\n",
       "      <th>4</th>\n",
       "      <td>Jakarta Selatan</td>\n",
       "      <td>2</td>\n",
       "      <td>3</td>\n",
       "      <td>Sempit</td>\n",
       "      <td>Rumah</td>\n",
       "      <td>Murah</td>\n",
       "      <td>Tidak Layak</td>\n",
       "    </tr>\n",
       "  </tbody>\n",
       "</table>\n",
       "</div>"
      ],
      "text/plain": [
       "            Lokasi  Kamar_Mandi  Kamar_Tidur Luas_Bangunan Properti_Type  \\\n",
       "0   Kebayoran Baru            3            3        Sempit         Rumah   \n",
       "1     Pasar Minggu            3            3        Sempit         Rumah   \n",
       "2   Kebayoran Baru            3           10        Sempit         Rumah   \n",
       "3         Cilandak            1            1        Sempit     Apartemen   \n",
       "4  Jakarta Selatan            2            3        Sempit         Rumah   \n",
       "\n",
       "  Price_Category    Investasi  \n",
       "0          Murah        Layak  \n",
       "1          Murah        Layak  \n",
       "2          Murah        Layak  \n",
       "3          Murah  Tidak Layak  \n",
       "4          Murah  Tidak Layak  "
      ]
     },
     "execution_count": 2,
     "metadata": {},
     "output_type": "execute_result"
    }
   ],
   "source": [
    "data2 = pd.read_csv('properti_real_estate.csv')\n",
    "data2.head()"
   ]
  },
  {
   "cell_type": "code",
   "execution_count": 4,
   "metadata": {},
   "outputs": [
    {
     "data": {
      "image/png": "[encoded data removed]",
      "text/plain": [
       "<Figure size 600x600 with 1 Axes>"
      ]
     },
     "metadata": {},
     "output_type": "display_data"
    }
   ],
   "source": [
    "import matplotlib.pyplot as plt\n",
    "%matplotlib inline\n",
    "\n",
    "data2['Investasi'].value_counts().plot(kind='pie', explode=[0,0.1], figsize=(6,6), autopct='%1.1f%%', shadow=True)\n",
    "plt.ylabel('Layak vs Tidak Layak')\n",
    "plt.legend(['Layak', 'Tidak Layak'])\n",
    "plt.show()"
   ]
  },
  {
   "cell_type": "code",
   "execution_count": 5,
   "metadata": {},
   "outputs": [],
   "source": [
    "def stacked_bar(variable):\n",
    "    locations = data2['Lokasi'].unique()\n",
    "    percentages = []\n",
    "\n",
    "    for lokasi in locations:\n",
    "        counts = data2[data2['Lokasi'] == lokasi][variable].value_counts(normalize=True)\n",
    "        percentages.append(counts)\n",
    "\n",
    "    # Convert to DataFrame and fill missing values with 0\n",
    "    dataset = pd.DataFrame(percentages, index=locations).fillna(0)\n",
    "\n",
    "    # Plot the stacked bar chart\n",
    "    dataset.plot(kind='bar', stacked=True, figsize=(10, 6), title=f\"Presentase {variable} Berdasarkan Lokasi\")\n",
    "    plt.ylabel('Presentase')\n",
    "    plt.xlabel('Lokasi')\n",
    "    plt.xticks(rotation=45)\n",
    "    plt.legend(title=variable, bbox_to_anchor=(1.05, 1), loc='upper left')\n",
    "    plt.tight_layout()\n",
    "\n",
    "    # Show the plot in Streamlit\n",
    "    plt.show()"
   ]
  },
  {
   "cell_type": "code",
   "execution_count": 8,
   "metadata": {},
   "outputs": [
    {
     "data": {
      "image/png": "[encoded data removed]",
      "text/plain": [
       "<Figure size 1000x600 with 1 Axes>"
      ]
     },
     "metadata": {},
     "output_type": "display_data"
    }
   ],
   "source": [
    "stacked_bar('Investasi')"
   ]
  },
  {
   "cell_type": "code",
   "execution_count": 7,
   "metadata": {},
   "outputs": [
    {
     "data": {
      "image/png": "[encoded data removed]",
      "text/plain": [
       "<Figure size 1000x600 with 1 Axes>"
      ]
     },
     "metadata": {},
     "output_type": "display_data"
    }
   ],
   "source": [
    "stacked_bar('Properti_Type')"
   ]
  },
  {
   "cell_type": "markdown",
   "metadata": {},
   "source": [
    "# Encoding"
   ]
  },
  {
   "cell_type": "markdown",
   "metadata": {},
   "source": [
    "## Label Encoder"
   ]
  },
  {
   "cell_type": "code",
   "execution_count": 66,
   "metadata": {},
   "outputs": [],
   "source": [
    "from sklearn.preprocessing import LabelEncoder\n",
    "label_encoder = LabelEncoder()\n",
    "data2['Lokasi'] = label_encoder.fit_transform(data2['Lokasi'])"
   ]
  },
  {
   "cell_type": "code",
   "execution_count": 67,
   "metadata": {},
   "outputs": [
    {
     "name": "stdout",
     "output_type": "stream",
     "text": [
      "Hasil label ke angka: {'Cilandak': 0, 'Jakarta Selatan': 1, 'Kebayoran Baru': 2, 'Kebayoran Lama': 3, 'Mampang Prapatan': 4, 'Pancoran': 5, 'Pasar Minggu': 6, 'Pesanggrahan': 7}\n"
     ]
    }
   ],
   "source": [
    "print(\"Hasil label ke angka:\", dict(zip(label_encoder.classes_, label_encoder.transform(label_encoder.classes_))))"
   ]
  },
  {
   "cell_type": "code",
   "execution_count": 68,
   "metadata": {},
   "outputs": [
    {
     "data": {
      "text/html": [
       "<div>\n",
       "<style scoped>\n",
       "    .dataframe tbody tr th:only-of-type {\n",
       "        vertical-align: middle;\n",
       "    }\n",
       "\n",
       "    .dataframe tbody tr th {\n",
       "        vertical-align: top;\n",
       "    }\n",
       "\n",
       "    .dataframe thead th {\n",
       "        text-align: right;\n",
       "    }\n",
       "</style>\n",
       "<table border=\"1\" class=\"dataframe\">\n",
       "  <thead>\n",
       "    <tr style=\"text-align: right;\">\n",
       "      <th></th>\n",
       "      <th>Lokasi</th>\n",
       "      <th>Kamar_Mandi</th>\n",
       "      <th>Kamar_Tidur</th>\n",
       "      <th>Luas_Bangunan</th>\n",
       "      <th>Properti_Type</th>\n",
       "      <th>Price_Category</th>\n",
       "      <th>Investasi</th>\n",
       "    </tr>\n",
       "  </thead>\n",
       "  <tbody>\n",
       "    <tr>\n",
       "      <th>0</th>\n",
       "      <td>2</td>\n",
       "      <td>3</td>\n",
       "      <td>3</td>\n",
       "      <td>Sempit</td>\n",
       "      <td>1</td>\n",
       "      <td>Murah</td>\n",
       "      <td>Layak</td>\n",
       "    </tr>\n",
       "    <tr>\n",
       "      <th>1</th>\n",
       "      <td>6</td>\n",
       "      <td>3</td>\n",
       "      <td>3</td>\n",
       "      <td>Sempit</td>\n",
       "      <td>1</td>\n",
       "      <td>Murah</td>\n",
       "      <td>Layak</td>\n",
       "    </tr>\n",
       "    <tr>\n",
       "      <th>2</th>\n",
       "      <td>2</td>\n",
       "      <td>3</td>\n",
       "      <td>10</td>\n",
       "      <td>Sempit</td>\n",
       "      <td>1</td>\n",
       "      <td>Murah</td>\n",
       "      <td>Layak</td>\n",
       "    </tr>\n",
       "    <tr>\n",
       "      <th>3</th>\n",
       "      <td>0</td>\n",
       "      <td>1</td>\n",
       "      <td>1</td>\n",
       "      <td>Sempit</td>\n",
       "      <td>0</td>\n",
       "      <td>Murah</td>\n",
       "      <td>Tidak Layak</td>\n",
       "    </tr>\n",
       "    <tr>\n",
       "      <th>4</th>\n",
       "      <td>1</td>\n",
       "      <td>2</td>\n",
       "      <td>3</td>\n",
       "      <td>Sempit</td>\n",
       "      <td>1</td>\n",
       "      <td>Murah</td>\n",
       "      <td>Tidak Layak</td>\n",
       "    </tr>\n",
       "  </tbody>\n",
       "</table>\n",
       "</div>"
      ],
      "text/plain": [
       "   Lokasi  Kamar_Mandi  Kamar_Tidur Luas_Bangunan  Properti_Type  \\\n",
       "0       2            3            3        Sempit              1   \n",
       "1       6            3            3        Sempit              1   \n",
       "2       2            3           10        Sempit              1   \n",
       "3       0            1            1        Sempit              0   \n",
       "4       1            2            3        Sempit              1   \n",
       "\n",
       "  Price_Category    Investasi  \n",
       "0          Murah        Layak  \n",
       "1          Murah        Layak  \n",
       "2          Murah        Layak  \n",
       "3          Murah  Tidak Layak  \n",
       "4          Murah  Tidak Layak  "
      ]
     },
     "execution_count": 68,
     "metadata": {},
     "output_type": "execute_result"
    }
   ],
   "source": [
    "data2['Properti_Type'] = label_encoder.fit_transform(data2['Properti_Type'])\n",
    "data2.head()"
   ]
  },
  {
   "cell_type": "code",
   "execution_count": 69,
   "metadata": {},
   "outputs": [
    {
     "name": "stdout",
     "output_type": "stream",
     "text": [
      "Mapping label asli ke angka: {'Apartemen': 0, 'Rumah': 1}\n"
     ]
    }
   ],
   "source": [
    "print(\"Mapping label asli ke angka:\", dict(zip(label_encoder.classes_, label_encoder.transform(label_encoder.classes_))))"
   ]
  },
  {
   "cell_type": "markdown",
   "metadata": {},
   "source": [
    "## Ordinal Encoder"
   ]
  },
  {
   "cell_type": "code",
   "execution_count": 70,
   "metadata": {},
   "outputs": [],
   "source": [
    "from sklearn.preprocessing import OrdinalEncoder\n",
    "categories = [['Sempit', 'Sedang', 'Luas']]\n",
    "ordinal_encoder = OrdinalEncoder(categories=categories)\n",
    "data2[['Luas_Bangunan']] = ordinal_encoder.fit_transform(data2[['Luas_Bangunan']])"
   ]
  },
  {
   "cell_type": "code",
   "execution_count": 71,
   "metadata": {},
   "outputs": [
    {
     "data": {
      "text/html": [
       "<div>\n",
       "<style scoped>\n",
       "    .dataframe tbody tr th:only-of-type {\n",
       "        vertical-align: middle;\n",
       "    }\n",
       "\n",
       "    .dataframe tbody tr th {\n",
       "        vertical-align: top;\n",
       "    }\n",
       "\n",
       "    .dataframe thead th {\n",
       "        text-align: right;\n",
       "    }\n",
       "</style>\n",
       "<table border=\"1\" class=\"dataframe\">\n",
       "  <thead>\n",
       "    <tr style=\"text-align: right;\">\n",
       "      <th></th>\n",
       "      <th>Lokasi</th>\n",
       "      <th>Kamar_Mandi</th>\n",
       "      <th>Kamar_Tidur</th>\n",
       "      <th>Luas_Bangunan</th>\n",
       "      <th>Properti_Type</th>\n",
       "      <th>Price_Category</th>\n",
       "      <th>Investasi</th>\n",
       "    </tr>\n",
       "  </thead>\n",
       "  <tbody>\n",
       "    <tr>\n",
       "      <th>0</th>\n",
       "      <td>2</td>\n",
       "      <td>3</td>\n",
       "      <td>3</td>\n",
       "      <td>0.0</td>\n",
       "      <td>1</td>\n",
       "      <td>0.0</td>\n",
       "      <td>Layak</td>\n",
       "    </tr>\n",
       "    <tr>\n",
       "      <th>1</th>\n",
       "      <td>6</td>\n",
       "      <td>3</td>\n",
       "      <td>3</td>\n",
       "      <td>0.0</td>\n",
       "      <td>1</td>\n",
       "      <td>0.0</td>\n",
       "      <td>Layak</td>\n",
       "    </tr>\n",
       "    <tr>\n",
       "      <th>2</th>\n",
       "      <td>2</td>\n",
       "      <td>3</td>\n",
       "      <td>10</td>\n",
       "      <td>0.0</td>\n",
       "      <td>1</td>\n",
       "      <td>0.0</td>\n",
       "      <td>Layak</td>\n",
       "    </tr>\n",
       "    <tr>\n",
       "      <th>3</th>\n",
       "      <td>0</td>\n",
       "      <td>1</td>\n",
       "      <td>1</td>\n",
       "      <td>0.0</td>\n",
       "      <td>0</td>\n",
       "      <td>0.0</td>\n",
       "      <td>Tidak Layak</td>\n",
       "    </tr>\n",
       "    <tr>\n",
       "      <th>4</th>\n",
       "      <td>1</td>\n",
       "      <td>2</td>\n",
       "      <td>3</td>\n",
       "      <td>0.0</td>\n",
       "      <td>1</td>\n",
       "      <td>0.0</td>\n",
       "      <td>Tidak Layak</td>\n",
       "    </tr>\n",
       "  </tbody>\n",
       "</table>\n",
       "</div>"
      ],
      "text/plain": [
       "   Lokasi  Kamar_Mandi  Kamar_Tidur  Luas_Bangunan  Properti_Type  \\\n",
       "0       2            3            3            0.0              1   \n",
       "1       6            3            3            0.0              1   \n",
       "2       2            3           10            0.0              1   \n",
       "3       0            1            1            0.0              0   \n",
       "4       1            2            3            0.0              1   \n",
       "\n",
       "   Price_Category    Investasi  \n",
       "0             0.0        Layak  \n",
       "1             0.0        Layak  \n",
       "2             0.0        Layak  \n",
       "3             0.0  Tidak Layak  \n",
       "4             0.0  Tidak Layak  "
      ]
     },
     "execution_count": 71,
     "metadata": {},
     "output_type": "execute_result"
    }
   ],
   "source": [
    "categories = [['Murah', 'Sedang', 'Mahal']]\n",
    "ordinal_encoder = OrdinalEncoder(categories=categories)\n",
    "data2[['Price_Category']] = ordinal_encoder.fit_transform(data2[['Price_Category']])\n",
    "data2.head()"
   ]
  },
  {
   "cell_type": "markdown",
   "metadata": {},
   "source": [
    "# Pemodelan"
   ]
  },
  {
   "cell_type": "code",
   "execution_count": 72,
   "metadata": {},
   "outputs": [],
   "source": [
    "x = data2.drop('Investasi', axis=1)\n",
    "y = data2['Investasi']"
   ]
  },
  {
   "cell_type": "code",
   "execution_count": 73,
   "metadata": {},
   "outputs": [],
   "source": [
    "from sklearn.model_selection import train_test_split\n",
    "X_train, X_test, y_train, y_test = train_test_split(x, y, test_size = 0.3, random_state = 0)"
   ]
  },
  {
   "cell_type": "markdown",
   "metadata": {},
   "source": [
    "## Decision Tree"
   ]
  },
  {
   "cell_type": "code",
   "execution_count": 74,
   "metadata": {},
   "outputs": [
    {
     "name": "stdout",
     "output_type": "stream",
     "text": [
      "0.9673202614379085\n"
     ]
    }
   ],
   "source": [
    "from sklearn.tree import DecisionTreeClassifier\n",
    "DT = DecisionTreeClassifier()\n",
    "DT.fit(X_train, y_train)\n",
    "\n",
    "DT_pred = DT.predict(X_test)\n",
    "\n",
    "from sklearn.metrics import accuracy_score\n",
    "print(accuracy_score(y_test, DT_pred))"
   ]
  },
  {
   "cell_type": "code",
   "execution_count": 75,
   "metadata": {},
   "outputs": [
    {
     "data": {
      "text/html": [
       "<div>\n",
       "<style scoped>\n",
       "    .dataframe tbody tr th:only-of-type {\n",
       "        vertical-align: middle;\n",
       "    }\n",
       "\n",
       "    .dataframe tbody tr th {\n",
       "        vertical-align: top;\n",
       "    }\n",
       "\n",
       "    .dataframe thead th {\n",
       "        text-align: right;\n",
       "    }\n",
       "</style>\n",
       "<table border=\"1\" class=\"dataframe\">\n",
       "  <thead>\n",
       "    <tr style=\"text-align: right;\">\n",
       "      <th>Predicted</th>\n",
       "      <th>Layak</th>\n",
       "      <th>Tidak Layak</th>\n",
       "      <th>All</th>\n",
       "    </tr>\n",
       "    <tr>\n",
       "      <th>Actual</th>\n",
       "      <th></th>\n",
       "      <th></th>\n",
       "      <th></th>\n",
       "    </tr>\n",
       "  </thead>\n",
       "  <tbody>\n",
       "    <tr>\n",
       "      <th>Layak</th>\n",
       "      <td>63</td>\n",
       "      <td>3</td>\n",
       "      <td>66</td>\n",
       "    </tr>\n",
       "    <tr>\n",
       "      <th>Tidak Layak</th>\n",
       "      <td>2</td>\n",
       "      <td>85</td>\n",
       "      <td>87</td>\n",
       "    </tr>\n",
       "    <tr>\n",
       "      <th>All</th>\n",
       "      <td>65</td>\n",
       "      <td>88</td>\n",
       "      <td>153</td>\n",
       "    </tr>\n",
       "  </tbody>\n",
       "</table>\n",
       "</div>"
      ],
      "text/plain": [
       "Predicted    Layak  Tidak Layak  All\n",
       "Actual                              \n",
       "Layak           63            3   66\n",
       "Tidak Layak      2           85   87\n",
       "All             65           88  153"
      ]
     },
     "execution_count": 75,
     "metadata": {},
     "output_type": "execute_result"
    }
   ],
   "source": [
    "pd.crosstab(y_test, DT_pred, rownames=['Actual'], colnames=['Predicted'], margins=True)"
   ]
  },
  {
   "cell_type": "markdown",
   "metadata": {},
   "source": [
    "## Random Forest"
   ]
  },
  {
   "cell_type": "code",
   "execution_count": 76,
   "metadata": {},
   "outputs": [
    {
     "name": "stdout",
     "output_type": "stream",
     "text": [
      "0.934640522875817\n"
     ]
    }
   ],
   "source": [
    "from sklearn.ensemble import RandomForestClassifier\n",
    "RF = RandomForestClassifier()\n",
    "RF.fit(X_train, y_train)\n",
    "\n",
    "RF_pred = RF.predict(X_test)\n",
    "\n",
    "print(accuracy_score(y_test, RF_pred))"
   ]
  },
  {
   "cell_type": "code",
   "execution_count": 77,
   "metadata": {},
   "outputs": [
    {
     "data": {
      "text/html": [
       "<div>\n",
       "<style scoped>\n",
       "    .dataframe tbody tr th:only-of-type {\n",
       "        vertical-align: middle;\n",
       "    }\n",
       "\n",
       "    .dataframe tbody tr th {\n",
       "        vertical-align: top;\n",
       "    }\n",
       "\n",
       "    .dataframe thead th {\n",
       "        text-align: right;\n",
       "    }\n",
       "</style>\n",
       "<table border=\"1\" class=\"dataframe\">\n",
       "  <thead>\n",
       "    <tr style=\"text-align: right;\">\n",
       "      <th>Predicted</th>\n",
       "      <th>Layak</th>\n",
       "      <th>Tidak Layak</th>\n",
       "      <th>All</th>\n",
       "    </tr>\n",
       "    <tr>\n",
       "      <th>Actual</th>\n",
       "      <th></th>\n",
       "      <th></th>\n",
       "      <th></th>\n",
       "    </tr>\n",
       "  </thead>\n",
       "  <tbody>\n",
       "    <tr>\n",
       "      <th>Layak</th>\n",
       "      <td>62</td>\n",
       "      <td>4</td>\n",
       "      <td>66</td>\n",
       "    </tr>\n",
       "    <tr>\n",
       "      <th>Tidak Layak</th>\n",
       "      <td>6</td>\n",
       "      <td>81</td>\n",
       "      <td>87</td>\n",
       "    </tr>\n",
       "    <tr>\n",
       "      <th>All</th>\n",
       "      <td>68</td>\n",
       "      <td>85</td>\n",
       "      <td>153</td>\n",
       "    </tr>\n",
       "  </tbody>\n",
       "</table>\n",
       "</div>"
      ],
      "text/plain": [
       "Predicted    Layak  Tidak Layak  All\n",
       "Actual                              \n",
       "Layak           62            4   66\n",
       "Tidak Layak      6           81   87\n",
       "All             68           85  153"
      ]
     },
     "execution_count": 77,
     "metadata": {},
     "output_type": "execute_result"
    }
   ],
   "source": [
    "pd.crosstab(y_test, RF_pred, rownames=['Actual'], colnames=['Predicted'], margins=True)"
   ]
  },
  {
   "cell_type": "markdown",
   "metadata": {},
   "source": [
    "## KNN"
   ]
  },
  {
   "cell_type": "code",
   "execution_count": 78,
   "metadata": {},
   "outputs": [
    {
     "name": "stdout",
     "output_type": "stream",
     "text": [
      "0.8366013071895425\n"
     ]
    }
   ],
   "source": [
    "from sklearn.neighbors import KNeighborsClassifier\n",
    "KNN = KNeighborsClassifier()\n",
    "KNN.fit(X_train, y_train)\n",
    "\n",
    "KNN_pred = KNN.predict(X_test)\n",
    "\n",
    "print(accuracy_score(y_test, KNN_pred))"
   ]
  },
  {
   "cell_type": "code",
   "execution_count": 79,
   "metadata": {},
   "outputs": [
    {
     "data": {
      "text/html": [
       "<div>\n",
       "<style scoped>\n",
       "    .dataframe tbody tr th:only-of-type {\n",
       "        vertical-align: middle;\n",
       "    }\n",
       "\n",
       "    .dataframe tbody tr th {\n",
       "        vertical-align: top;\n",
       "    }\n",
       "\n",
       "    .dataframe thead th {\n",
       "        text-align: right;\n",
       "    }\n",
       "</style>\n",
       "<table border=\"1\" class=\"dataframe\">\n",
       "  <thead>\n",
       "    <tr style=\"text-align: right;\">\n",
       "      <th>Predicted</th>\n",
       "      <th>Layak</th>\n",
       "      <th>Tidak Layak</th>\n",
       "      <th>All</th>\n",
       "    </tr>\n",
       "    <tr>\n",
       "      <th>Actual</th>\n",
       "      <th></th>\n",
       "      <th></th>\n",
       "      <th></th>\n",
       "    </tr>\n",
       "  </thead>\n",
       "  <tbody>\n",
       "    <tr>\n",
       "      <th>Layak</th>\n",
       "      <td>53</td>\n",
       "      <td>13</td>\n",
       "      <td>66</td>\n",
       "    </tr>\n",
       "    <tr>\n",
       "      <th>Tidak Layak</th>\n",
       "      <td>12</td>\n",
       "      <td>75</td>\n",
       "      <td>87</td>\n",
       "    </tr>\n",
       "    <tr>\n",
       "      <th>All</th>\n",
       "      <td>65</td>\n",
       "      <td>88</td>\n",
       "      <td>153</td>\n",
       "    </tr>\n",
       "  </tbody>\n",
       "</table>\n",
       "</div>"
      ],
      "text/plain": [
       "Predicted    Layak  Tidak Layak  All\n",
       "Actual                              \n",
       "Layak           53           13   66\n",
       "Tidak Layak     12           75   87\n",
       "All             65           88  153"
      ]
     },
     "execution_count": 79,
     "metadata": {},
     "output_type": "execute_result"
    }
   ],
   "source": [
    "pd.crosstab(y_test, KNN_pred, rownames=['Actual'], colnames=['Predicted'], margins=True)"
   ]
  },
  {
   "cell_type": "markdown",
   "metadata": {},
   "source": [
    "# Inputan Model Decision Tree"
   ]
  },
  {
   "cell_type": "code",
   "execution_count": 80,
   "metadata": {},
   "outputs": [
    {
     "name": "stdout",
     "output_type": "stream",
     "text": [
      "Prediksi Kelayakan Investasi Properti Real Estate di Daerah Jakarta Selatan : ['Layak']\n"
     ]
    },
    {
     "name": "stderr",
     "output_type": "stream",
     "text": [
      "c:\\Users\\ASUS\\anaconda3\\Lib\\site-packages\\sklearn\\base.py:493: UserWarning: X does not have valid feature names, but DecisionTreeClassifier was fitted with feature names\n",
      "  warnings.warn(\n"
     ]
    }
   ],
   "source": [
    "#Lokasi=6(Pasar Minggu), Kamar Mandi=2, Kamar Tidur=3, Luas Bangunan=1(sedang), Properti Type=1(rumah), Price=0(murah)\n",
    "import numpy as np\n",
    "input_data = np.array([[6,2,3,1,1,0]])\n",
    "\n",
    "prediction = DT.predict(input_data)\n",
    "print('Prediksi Kelayakan Investasi Properti Real Estate di Daerah Jakarta Selatan :', prediction)"
   ]
  },
  {
   "cell_type": "markdown",
   "metadata": {},
   "source": [
    "# Pickle"
   ]
  },
  {
   "cell_type": "code",
   "execution_count": 81,
   "metadata": {},
   "outputs": [],
   "source": [
    "import pickle\n",
    "\n",
    "filename = 'prediksi_investasi_properti.sav'\n",
    "pickle.dump(DT,open(filename,'wb'))"
   ]
  }
 ],
 "metadata": {
  "kernelspec": {
   "display_name": "base",
   "language": "python",
   "name": "python3"
  },
  "language_info": {
   "codemirror_mode": {
    "name": "ipython",
    "version": 3
   },
   "file_extension": ".py",
   "mimetype": "text/x-python",
   "name": "python",
   "nbconvert_exporter": "python",
   "pygments_lexer": "ipython3",
   "version": "3.12.4"
  }
 },
 "nbformat": 4,
 "nbformat_minor": 2
}
